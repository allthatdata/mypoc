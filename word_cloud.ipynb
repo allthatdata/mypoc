{
 "cells": [
  {
   "cell_type": "code",
   "execution_count": 1,
   "id": "73a12b51-1112-40a4-a977-a9d20c27747e",
   "metadata": {
    "execution": {
     "iopub.execute_input": "2022-09-27T17:50:15.619643Z",
     "iopub.status.busy": "2022-09-27T17:50:15.619363Z",
     "iopub.status.idle": "2022-09-27T17:50:16.089298Z",
     "shell.execute_reply": "2022-09-27T17:50:16.088697Z",
     "shell.execute_reply.started": "2022-09-27T17:50:15.619575Z"
    }
   },
   "outputs": [],
   "source": [
    "## Import the required libraries\n",
    "import re  \n",
    "import matplotlib.pyplot as plt  \n",
    "from wordcloud import WordCloud, STOPWORDS"
   ]
  },
  {
   "cell_type": "code",
   "execution_count": 2,
   "id": "76ffcc89-d06a-460a-ab13-bd64d2298f22",
   "metadata": {
    "execution": {
     "iopub.execute_input": "2022-09-27T17:50:16.090655Z",
     "iopub.status.busy": "2022-09-27T17:50:16.090397Z",
     "iopub.status.idle": "2022-09-27T17:50:16.101934Z",
     "shell.execute_reply": "2022-09-27T17:50:16.101435Z",
     "shell.execute_reply.started": "2022-09-27T17:50:16.090588Z"
    },
    "tags": []
   },
   "outputs": [],
   "source": [
    "## Read the data from file\n",
    "text = open(\"sample.txt\", \"r\").read() "
   ]
  },
  {
   "cell_type": "code",
   "execution_count": 3,
   "id": "612f02c7-4d41-4f77-a755-8c87f62fb741",
   "metadata": {
    "execution": {
     "iopub.execute_input": "2022-09-27T17:50:32.686923Z",
     "iopub.status.busy": "2022-09-27T17:50:32.686692Z",
     "iopub.status.idle": "2022-09-27T17:50:32.690513Z",
     "shell.execute_reply": "2022-09-27T17:50:32.689867Z",
     "shell.execute_reply.started": "2022-09-27T17:50:32.686900Z"
    }
   },
   "outputs": [],
   "source": [
    "## Clean the data  \n",
    "text = re.sub(r'==.*?==+', '', text)  \n",
    "text = text.replace('\\n', '')  "
   ]
  },
  {
   "cell_type": "code",
   "execution_count": 4,
   "id": "373e0304-822e-4d9d-9d8e-fe0adc7a96a9",
   "metadata": {
    "execution": {
     "iopub.execute_input": "2022-09-27T17:50:41.258425Z",
     "iopub.status.busy": "2022-09-27T17:50:41.258135Z",
     "iopub.status.idle": "2022-09-27T17:50:41.262237Z",
     "shell.execute_reply": "2022-09-27T17:50:41.261665Z",
     "shell.execute_reply.started": "2022-09-27T17:50:41.258394Z"
    }
   },
   "outputs": [],
   "source": [
    "# Function to plot word cloud\n",
    "def plot_cloud(wordcloud):  \n",
    "    plt.figure(figsize=(40, 30))  \n",
    "    plt.imshow(wordcloud)   \n",
    "    plt.axis(\"off\")  "
   ]
  },
  {
   "cell_type": "code",
   "execution_count": 5,
   "id": "494d1c1c-568f-4f03-aa25-c9c2ed8d6a95",
   "metadata": {
    "execution": {
     "iopub.execute_input": "2022-09-27T17:50:52.994194Z",
     "iopub.status.busy": "2022-09-27T17:50:52.993907Z",
     "iopub.status.idle": "2022-09-27T17:51:01.587750Z",
     "shell.execute_reply": "2022-09-27T17:51:01.587132Z",
     "shell.execute_reply.started": "2022-09-27T17:50:52.994162Z"
    }
   },
   "outputs": [],
   "source": [
    "# Generate word cloud  \n",
    "wordcloud = WordCloud(width = 3000, height = 2000, random_state=1, background_color='salmon', colormap='Pastel1', collocations=False, stopwords = STOPWORDS).generate(text)"
   ]
  },
  {
   "cell_type": "code",
   "execution_count": null,
   "id": "a9cfeace-66b9-4083-ac28-30b2c638e00c",
   "metadata": {
    "execution": {
     "iopub.execute_input": "2022-09-27T17:54:10.001212Z",
     "iopub.status.busy": "2022-09-27T17:54:10.000978Z"
    }
   },
   "outputs": [],
   "source": [
    "plot_cloud(wordcloud)"
   ]
  },
  {
   "cell_type": "code",
   "execution_count": null,
   "id": "a8fd2e30-3d82-483c-88b8-bc94b9c80415",
   "metadata": {},
   "outputs": [],
   "source": []
  }
 ],
 "metadata": {
  "kernelspec": {
   "display_name": "Python 3",
   "language": "python",
   "name": "python3"
  },
  "language_info": {
   "codemirror_mode": {
    "name": "ipython",
    "version": 3
   },
   "file_extension": ".py",
   "mimetype": "text/x-python",
   "name": "python",
   "nbconvert_exporter": "python",
   "pygments_lexer": "ipython3",
   "version": "3.9.6"
  }
 },
 "nbformat": 4,
 "nbformat_minor": 5
}
